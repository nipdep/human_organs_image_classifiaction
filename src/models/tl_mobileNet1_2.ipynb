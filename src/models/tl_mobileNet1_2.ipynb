{
 "cells": [
  {
   "cell_type": "code",
   "execution_count": null,
   "outputs": [],
   "source": [],
   "metadata": {
    "collapsed": false,
    "pycharm": {
     "name": "#%%\n"
    }
   }
  },
  {
   "cell_type": "code",
   "execution_count": null,
   "outputs": [],
   "source": [],
   "metadata": {
    "collapsed": false,
    "pycharm": {
     "name": "#%%\n"
    }
   }
  },
  {
   "cell_type": "code",
   "execution_count": null,
   "outputs": [],
   "source": [],
   "metadata": {
    "collapsed": false,
    "pycharm": {
     "name": "#%%\n"
    }
   }
  },
  {
   "cell_type": "markdown",
   "source": [
    "<h1>human organ classification </h1>\n",
    "<h2> C-NN model<h3> [transfer learn on MobileNetV2 model]</h3></h2>"
   ],
   "metadata": {
    "collapsed": false
   }
  },
  {
   "cell_type": "markdown",
   "source": [
    "call to packages & libraries"
   ],
   "metadata": {
    "collapsed": false
   }
  },
  {
   "cell_type": "code",
   "execution_count": 1,
   "outputs": [],
   "source": [
    "\n",
    "from tensorflow import keras\n",
    "from datetime import datetime\n",
    "\n",
    "from src.sup.evaluation import *\n",
    "from src.sup.support import *\n",
    "from src.sup.test_set_eval import *\n",
    "\n",
    "from tensorflow.keras.optimizers import RMSprop,SGD,Adam\n",
    "from tensorflow.keras.layers import Dense,BatchNormalization,Dropout\n",
    "from tensorflow.keras.layers import Conv2D,MaxPool2D,Flatten\n",
    "from tensorflow.keras.applications import MobileNetV2\n",
    "from tensorflow.keras import Model"
   ],
   "metadata": {
    "collapsed": false,
    "pycharm": {
     "name": "#%%\n"
    }
   }
  },
  {
   "cell_type": "code",
   "execution_count": 2,
   "outputs": [],
   "source": [
    "model_name = \"mobileNet_v2_transfer_learn_1.1\"\n",
    "\n",
    "# Load the TensorBoard notebook extension.\n",
    "%load_ext tensorboard\n",
    "\n",
    "# call inline plt."
   ],
   "metadata": {
    "collapsed": false,
    "pycharm": {
     "name": "#%%\n"
    }
   }
  },
  {
   "cell_type": "code",
   "execution_count": null,
   "outputs": [],
   "source": [
    "# Clear any logs from previous runs\n",
    "!rm -rf ./logs/"
   ],
   "metadata": {
    "collapsed": false,
    "pycharm": {
     "name": "#%%\n"
    }
   }
  },
  {
   "cell_type": "markdown",
   "source": [
    "callout dataset"
   ],
   "metadata": {
    "collapsed": false
   }
  },
  {
   "cell_type": "code",
   "execution_count": 3,
   "outputs": [],
   "source": [
    "classes = ['Heart','Brain','Eye','Kidney','Skull','Other']\n",
    "root_dir = '../../datasets/'\n",
    "train_dir = os.path.join(root_dir,'train/')\n",
    "validation_dir = os.path.join(root_dir,'validation/')\n",
    "tr_heart_dir,tr_brain_dir,tr_eye_dir,tr_kidney_dir,tr_skull_dir,tr_other_dir = path_update(train_dir,classes)\n",
    "vl_heart_dir,vl_brain_dir,vl_eye_dir,vl_kidney_dir,vl_skull_dir,vl_other_dir = path_update(validation_dir,classes)"
   ],
   "metadata": {
    "collapsed": false,
    "pycharm": {
     "name": "#%%\n"
    }
   }
  },
  {
   "cell_type": "markdown",
   "source": [
    "take a glance at training dataset"
   ],
   "metadata": {
    "collapsed": false
   }
  },
  {
   "cell_type": "code",
   "execution_count": null,
   "outputs": [],
   "source": [
    "plot_sample_of_img(4,4,os.listdir(tr_heart_dir)+os.listdir(tr_eye_dir))"
   ],
   "metadata": {
    "collapsed": false,
    "pycharm": {
     "name": "#%%\n"
    }
   }
  },
  {
   "cell_type": "markdown",
   "source": [
    "ImageGenator - autolabelling, and categorizing."
   ],
   "metadata": {
    "collapsed": false
   }
  },
  {
   "cell_type": "code",
   "execution_count": 4,
   "outputs": [
    {
     "name": "stdout",
     "output_type": "stream",
     "text": [
      "Found 2803 images belonging to 6 classes.\n",
      "Found 247 images belonging to 6 classes.\n"
     ]
    }
   ],
   "source": [
    "train_gen_tmp = ImageDataGenerator(rescale=1./255,\n",
    "      width_shift_range=0.2,\n",
    "      height_shift_range=0.2,\n",
    "      zoom_range=0.2,\n",
    "      horizontal_flip=True,\n",
    "      fill_mode='nearest')\n",
    "\n",
    "validation_gen_tmp = ImageDataGenerator(rescale=1/225.)\n",
    "\n",
    "train_gen = train_gen_tmp.flow_from_directory(train_dir,\n",
    "                                              target_size=(224,224),\n",
    "                                              color_mode=\"grayscale\",\n",
    "                                              class_mode='categorical',\n",
    "                                              batch_size= 20,\n",
    "                                              shuffle=True,\n",
    "                                              seed=42)\n",
    "\n",
    "validation_gen = validation_gen_tmp.flow_from_directory(validation_dir,\n",
    "                                              target_size=(224,224),\n",
    "                                              color_mode=\"grayscale\",\n",
    "                                              class_mode='categorical',\n",
    "                                              batch_size= 20,\n",
    "                                              shuffle=True,\n",
    "                                              seed=42)\n",
    "\n",
    "STEP_SIZE_TRAIN=train_gen.n//train_gen.batch_size\n",
    "STEP_SIZE_VALID=validation_gen.n//validation_gen.batch_size\n",
    "\n",
    "clToInt_dict = train_gen.class_indices\n",
    "clToInt_dict = dict((k,v) for v,k in clToInt_dict.items())"
   ],
   "metadata": {
    "collapsed": false,
    "pycharm": {
     "name": "#%%\n"
    }
   }
  },
  {
   "cell_type": "markdown",
   "source": [
    "define the model"
   ],
   "metadata": {
    "collapsed": false
   }
  },
  {
   "cell_type": "code",
   "execution_count": 5,
   "outputs": [
    {
     "ename": "ValueError",
     "evalue": "You are trying to load a weight file containing 105 layers into a model with 104 layers.",
     "output_type": "error",
     "traceback": [
      "\u001B[1;31m---------------------------------------------------------------------------\u001B[0m",
      "\u001B[1;31mValueError\u001B[0m                                Traceback (most recent call last)",
      "\u001B[1;32m<ipython-input-5-b7210f048517>\u001B[0m in \u001B[0;36m<module>\u001B[1;34m\u001B[0m\n\u001B[0;32m      5\u001B[0m                     include_top = False)\n\u001B[0;32m      6\u001B[0m \u001B[1;33m\u001B[0m\u001B[0m\n\u001B[1;32m----> 7\u001B[1;33m \u001B[0mpre_model\u001B[0m\u001B[1;33m.\u001B[0m\u001B[0mload_weights\u001B[0m\u001B[1;33m(\u001B[0m\u001B[0mweight_path\u001B[0m\u001B[1;33m)\u001B[0m\u001B[1;33m\u001B[0m\u001B[1;33m\u001B[0m\u001B[0m\n\u001B[0m\u001B[0;32m      8\u001B[0m \u001B[1;31m#model.summary()\u001B[0m\u001B[1;33m\u001B[0m\u001B[1;33m\u001B[0m\u001B[1;33m\u001B[0m\u001B[0m\n\u001B[0;32m      9\u001B[0m \u001B[1;33m\u001B[0m\u001B[0m\n",
      "\u001B[1;32m~\\.conda\\envs\\ML_env\\lib\\site-packages\\tensorflow_core\\python\\keras\\engine\\training.py\u001B[0m in \u001B[0;36mload_weights\u001B[1;34m(self, filepath, by_name, skip_mismatch)\u001B[0m\n\u001B[0;32m    232\u001B[0m         raise ValueError('Load weights is not yet supported with TPUStrategy '\n\u001B[0;32m    233\u001B[0m                          'with steps_per_run greater than 1.')\n\u001B[1;32m--> 234\u001B[1;33m     \u001B[1;32mreturn\u001B[0m \u001B[0msuper\u001B[0m\u001B[1;33m(\u001B[0m\u001B[0mModel\u001B[0m\u001B[1;33m,\u001B[0m \u001B[0mself\u001B[0m\u001B[1;33m)\u001B[0m\u001B[1;33m.\u001B[0m\u001B[0mload_weights\u001B[0m\u001B[1;33m(\u001B[0m\u001B[0mfilepath\u001B[0m\u001B[1;33m,\u001B[0m \u001B[0mby_name\u001B[0m\u001B[1;33m,\u001B[0m \u001B[0mskip_mismatch\u001B[0m\u001B[1;33m)\u001B[0m\u001B[1;33m\u001B[0m\u001B[1;33m\u001B[0m\u001B[0m\n\u001B[0m\u001B[0;32m    235\u001B[0m \u001B[1;33m\u001B[0m\u001B[0m\n\u001B[0;32m    236\u001B[0m   \u001B[1;33m@\u001B[0m\u001B[0mtrackable\u001B[0m\u001B[1;33m.\u001B[0m\u001B[0mno_automatic_dependency_tracking\u001B[0m\u001B[1;33m\u001B[0m\u001B[1;33m\u001B[0m\u001B[0m\n",
      "\u001B[1;32m~\\.conda\\envs\\ML_env\\lib\\site-packages\\tensorflow_core\\python\\keras\\engine\\network.py\u001B[0m in \u001B[0;36mload_weights\u001B[1;34m(self, filepath, by_name, skip_mismatch)\u001B[0m\n\u001B[0;32m   1220\u001B[0m             f, self.layers, skip_mismatch=skip_mismatch)\n\u001B[0;32m   1221\u001B[0m       \u001B[1;32melse\u001B[0m\u001B[1;33m:\u001B[0m\u001B[1;33m\u001B[0m\u001B[1;33m\u001B[0m\u001B[0m\n\u001B[1;32m-> 1222\u001B[1;33m         \u001B[0mhdf5_format\u001B[0m\u001B[1;33m.\u001B[0m\u001B[0mload_weights_from_hdf5_group\u001B[0m\u001B[1;33m(\u001B[0m\u001B[0mf\u001B[0m\u001B[1;33m,\u001B[0m \u001B[0mself\u001B[0m\u001B[1;33m.\u001B[0m\u001B[0mlayers\u001B[0m\u001B[1;33m)\u001B[0m\u001B[1;33m\u001B[0m\u001B[1;33m\u001B[0m\u001B[0m\n\u001B[0m\u001B[0;32m   1223\u001B[0m \u001B[1;33m\u001B[0m\u001B[0m\n\u001B[0;32m   1224\u001B[0m   \u001B[1;32mdef\u001B[0m \u001B[0m_updated_config\u001B[0m\u001B[1;33m(\u001B[0m\u001B[0mself\u001B[0m\u001B[1;33m)\u001B[0m\u001B[1;33m:\u001B[0m\u001B[1;33m\u001B[0m\u001B[1;33m\u001B[0m\u001B[0m\n",
      "\u001B[1;32m~\\.conda\\envs\\ML_env\\lib\\site-packages\\tensorflow_core\\python\\keras\\saving\\hdf5_format.py\u001B[0m in \u001B[0;36mload_weights_from_hdf5_group\u001B[1;34m(f, layers)\u001B[0m\n\u001B[0;32m    675\u001B[0m                      \u001B[1;34m'containing '\u001B[0m \u001B[1;33m+\u001B[0m \u001B[0mstr\u001B[0m\u001B[1;33m(\u001B[0m\u001B[0mlen\u001B[0m\u001B[1;33m(\u001B[0m\u001B[0mlayer_names\u001B[0m\u001B[1;33m)\u001B[0m\u001B[1;33m)\u001B[0m \u001B[1;33m+\u001B[0m\u001B[1;33m\u001B[0m\u001B[1;33m\u001B[0m\u001B[0m\n\u001B[0;32m    676\u001B[0m                      \u001B[1;34m' layers into a model with '\u001B[0m \u001B[1;33m+\u001B[0m \u001B[0mstr\u001B[0m\u001B[1;33m(\u001B[0m\u001B[0mlen\u001B[0m\u001B[1;33m(\u001B[0m\u001B[0mfiltered_layers\u001B[0m\u001B[1;33m)\u001B[0m\u001B[1;33m)\u001B[0m \u001B[1;33m+\u001B[0m\u001B[1;33m\u001B[0m\u001B[1;33m\u001B[0m\u001B[0m\n\u001B[1;32m--> 677\u001B[1;33m                      ' layers.')\n\u001B[0m\u001B[0;32m    678\u001B[0m \u001B[1;33m\u001B[0m\u001B[0m\n\u001B[0;32m    679\u001B[0m   \u001B[1;31m# We batch weight value assignments in a single backend call\u001B[0m\u001B[1;33m\u001B[0m\u001B[1;33m\u001B[0m\u001B[1;33m\u001B[0m\u001B[0m\n",
      "\u001B[1;31mValueError\u001B[0m: You are trying to load a weight file containing 105 layers into a model with 104 layers."
     ]
    }
   ],
   "source": [
    "weight_path = '../../h5_files/mobilenet_v2_weights_tf_dim_ordering_tf_kernels_1.0_224.h5'\n",
    "\n",
    "pre_model = MobileNetV2(input_shape=(224,224,1),\n",
    "                    weights = None,\n",
    "                    include_top = False)\n",
    "\n",
    "pre_model.load_weights(weight_path)\n",
    "#model.summary()\n",
    "\n",
    "for layer in pre_model.layers:\n",
    "    layer.trainable = False\n",
    "\n",
    "conn_layer = pre_model.get_layer('block_12_add')\n",
    "conn_output = conn_layer.output\n",
    "\n",
    "x = Conv2D(256,(3,3),activation='relu')(conn_output)\n",
    "x = MaxPool2D(2,2)(x)\n",
    "x = Flatten()(x)\n",
    "#x = Dense(256,activation='relu')(x)\n",
    "#x = Dropout(0.2)(x)\n",
    "x = Dense(128,activation='relu')(x)\n",
    "#x = Dropout(0.2)(x)\n",
    "#x = BatchNormalization()(x)\n",
    "x = Dense(6,activation='softmax')(x)\n",
    "\n",
    "model = Model(pre_model.input,x)\n",
    "\n",
    "#model.summary()"
   ],
   "metadata": {
    "collapsed": false,
    "pycharm": {
     "name": "#%%\n"
    }
   }
  },
  {
   "cell_type": "markdown",
   "source": [
    "compile the model"
   ],
   "metadata": {
    "collapsed": false
   }
  },
  {
   "cell_type": "code",
   "execution_count": null,
   "outputs": [],
   "source": [
    "model.compile(optimizer=Adam(),\n",
    "              loss='categorical_crossentropy',\n",
    "              metrics=['accuracy'])"
   ],
   "metadata": {
    "collapsed": false,
    "pycharm": {
     "name": "#%%\n"
    }
   }
  },
  {
   "cell_type": "markdown",
   "source": [
    "save the log"
   ],
   "metadata": {
    "collapsed": false
   }
  },
  {
   "cell_type": "code",
   "execution_count": null,
   "outputs": [],
   "source": [
    "# Define the Keras TensorBoard callback.\n",
    "logdir=\"logs/fit/\" + datetime.now().strftime(\"%Y%m%d-%H%M%S\")+'/'\n",
    "\n",
    "if not os.path.exists(logdir):\n",
    "    os.mkdir(logdir)\n",
    "\n",
    "#print(datetime.now().strftime(\"%Y%m%d%H%M%S\"))\n",
    "tensorboard_callback = keras.callbacks.TensorBoard(log_dir=logdir, histogram_freq=1, profile_batch = 100000000)"
   ],
   "metadata": {
    "collapsed": false,
    "pycharm": {
     "name": "#%%\n"
    }
   }
  },
  {
   "cell_type": "markdown",
   "source": [
    "fit & train the model."
   ],
   "metadata": {
    "collapsed": false
   }
  },
  {
   "cell_type": "code",
   "execution_count": null,
   "outputs": [],
   "source": [
    "history = model.fit(train_gen,\n",
    "                    steps_per_epoch=STEP_SIZE_TRAIN,\n",
    "                    validation_data=validation_gen,\n",
    "                    validation_steps=STEP_SIZE_VALID,\n",
    "                    epochs=10,\n",
    "                    verbose=1,\n",
    "                    callbacks= [tensorboard_callback])"
   ],
   "metadata": {
    "collapsed": false,
    "pycharm": {
     "name": "#%%\n"
    }
   }
  },
  {
   "cell_type": "markdown",
   "source": [
    "visualize layer process in cnn"
   ],
   "metadata": {
    "collapsed": false
   }
  },
  {
   "cell_type": "code",
   "execution_count": null,
   "outputs": [],
   "source": [
    "#visualize_model(model,img_path)"
   ],
   "metadata": {
    "collapsed": false,
    "pycharm": {
     "name": "#%%\n"
    }
   }
  },
  {
   "cell_type": "markdown",
   "source": [
    "instant evaluation"
   ],
   "metadata": {
    "collapsed": false
   }
  },
  {
   "cell_type": "code",
   "execution_count": null,
   "outputs": [],
   "source": [
    "#call to the tensorboard\n",
    "#%tensorboard --logdir ./logs/fit/\n",
    "#look at training model performance\n",
    "acc_n_loss(history)\n",
    "\n",
    "#model.evaluate_generator(validation_gen,\n",
    "#                         steps=STEP_SIZE_VALID)"
   ],
   "metadata": {
    "collapsed": false,
    "pycharm": {
     "name": "#%%\n"
    }
   }
  },
  {
   "cell_type": "markdown",
   "source": [
    "evaluate the model on test set.\n"
   ],
   "metadata": {
    "collapsed": false
   }
  },
  {
   "cell_type": "code",
   "execution_count": null,
   "outputs": [],
   "source": [
    "model_path = '../../h5_files/models/20200816005012mobileNet_v2_transfer_learn.h5'\n",
    "model_weight_path = '../../h5_files/weights/20200816005012mobileNet_v2_transfer_learn.h5'\n",
    "\n",
    "model = load_model(model_path)\n",
    "model.load_weights(model_weight_path)\n",
    "y_pred,y_test = test_eval(model,classes)\n",
    "plot_confusion_metrix(y_test,y_pred,classes)\n",
    "ROC_classes(6,y_test,y_pred,classes)\n",
    "\n"
   ],
   "metadata": {
    "collapsed": false,
    "pycharm": {
     "name": "#%%\n"
    }
   }
  },
  {
   "cell_type": "markdown",
   "source": [
    " save the model in .h5 file"
   ],
   "metadata": {
    "collapsed": false
   }
  },
  {
   "cell_type": "code",
   "execution_count": null,
   "outputs": [],
   "source": [
    "model_path,model_weight_path = save(model,datetime.now().strftime(\"%Y%m%d%H%M%S\")+model_name+'.h5')"
   ],
   "metadata": {
    "collapsed": false,
    "pycharm": {
     "name": "#%%\n"
    }
   }
  },
  {
   "cell_type": "markdown",
   "source": [
    "make prediction on random images"
   ],
   "metadata": {
    "collapsed": false
   }
  },
  {
   "cell_type": "code",
   "execution_count": null,
   "outputs": [],
   "source": [
    "model_path = '../../h5_files/models/20200816005012mobileNet_v2_transfer_learn.h5'\n",
    "model_weight_path = '../../h5_files/weights/20200816005012mobileNet_v2_transfer_learn.h5'\n",
    "img_path = '../../datasets/validation/../../datasets/validation/Other/11.jpg'\n",
    "rnd_predict(model_path,model_weight_path,img_path,clToInt_dict)"
   ],
   "metadata": {
    "collapsed": false,
    "pycharm": {
     "name": "#%%\n"
    }
   }
  },
  {
   "cell_type": "code",
   "execution_count": null,
   "outputs": [],
   "source": [],
   "metadata": {
    "collapsed": false,
    "pycharm": {
     "name": "#%%\n"
    }
   }
  }
 ],
 "metadata": {
  "kernelspec": {
   "display_name": "Python 3",
   "language": "python",
   "name": "python3"
  },
  "language_info": {
   "codemirror_mode": {
    "name": "ipython",
    "version": 2
   },
   "file_extension": ".py",
   "mimetype": "text/x-python",
   "name": "python",
   "nbconvert_exporter": "python",
   "pygments_lexer": "ipython2",
   "version": "2.7.6"
  }
 },
 "nbformat": 4,
 "nbformat_minor": 0
}